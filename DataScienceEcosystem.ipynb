{
 "cells": [
  {
   "cell_type": "markdown",
   "id": "916a1542-547e-4d23-ab7e-8bdb51a79af4",
   "metadata": {},
   "source": [
    "# Data Science Tools and Ecosystem"
   ]
  },
  {
   "cell_type": "markdown",
   "id": "369ad299-082b-4f67-852c-64c9b4ca2ac0",
   "metadata": {},
   "source": [
    "In this notebook, Data Science Tools and Ecosystem are summarized."
   ]
  },
  {
   "cell_type": "markdown",
   "id": "a2bcc5f5-24dd-42ac-910d-c803b85b8980",
   "metadata": {},
   "source": [
    "**Objectives:**\n",
    "* popular languages that Data Scientists use\n",
    "* commonly used libraries used by Data Scientists\n",
    "* examples of evaluating arithmetic expressions"
   ]
  },
  {
   "cell_type": "markdown",
   "id": "4117cebe-8f2c-46bc-a954-83ec3a184db7",
   "metadata": {},
   "source": [
    "Some of the popular languages that Data Scientists use are:\n",
    "1. Python\n",
    "2. R\n",
    "3. SQL"
   ]
  },
  {
   "cell_type": "markdown",
   "id": "6cab0dc7-1109-4308-8a2b-79bf24e1c763",
   "metadata": {},
   "source": [
    "Some of the commonly used libraries used by Data Scientists include:\n",
    "1. NumPy\n",
    "2. Pandas\n",
    "3. Matplotlib"
   ]
  },
  {
   "cell_type": "markdown",
   "id": "b9a13735-8c77-4154-a166-4670a50b327c",
   "metadata": {},
   "source": [
    "| Data Science Tools |\n",
    "|-------|\n",
    "|Jupyter Notebook|\n",
    "|VS Code|\n",
    "|Anaconda|"
   ]
  },
  {
   "cell_type": "markdown",
   "id": "e9da0b2e-e202-4ace-a6f4-da3fbad721c2",
   "metadata": {},
   "source": [
    "### Below are a few examples of evaluating arithmetic expressions in Python"
   ]
  },
  {
   "cell_type": "markdown",
   "id": "156c189f-75d0-4c34-b18e-e3a771b099f7",
   "metadata": {},
   "source": []
  },
  {
   "cell_type": "code",
   "execution_count": 9,
   "id": "f2ca0327-adf9-4600-8e91-12099cd457a4",
   "metadata": {},
   "outputs": [
    {
     "name": "stdout",
     "output_type": "stream",
     "text": [
      "17\n"
     ]
    }
   ],
   "source": [
    "#This a simple arithmetic expression to mutiply then add integers\n",
    "x = (3 * 4) + 5\n",
    "print(x)"
   ]
  },
  {
   "cell_type": "code",
   "execution_count": 11,
   "id": "83f63ee8-73f2-4554-b690-500acd9d5c77",
   "metadata": {},
   "outputs": [
    {
     "name": "stdout",
     "output_type": "stream",
     "text": [
      "3.3333333333333335\n"
     ]
    }
   ],
   "source": [
    "#This will convert 200 minutes to hours by diving by 60\n",
    "minutes = 200\n",
    "hours = minutes/60\n",
    "print(hours)"
   ]
  },
  {
   "cell_type": "markdown",
   "id": "c34e8e42-0c98-4387-8398-25daf066f9e6",
   "metadata": {},
   "source": [
    "## Author\n",
    "basil ali"
   ]
  },
  {
   "cell_type": "code",
   "execution_count": null,
   "id": "cc8012aa-9737-4f71-99a2-d69fe44c9217",
   "metadata": {},
   "outputs": [],
   "source": []
  }
 ],
 "metadata": {
  "kernelspec": {
   "display_name": "Python 3 (ipykernel)",
   "language": "python",
   "name": "python3"
  },
  "language_info": {
   "codemirror_mode": {
    "name": "ipython",
    "version": 3
   },
   "file_extension": ".py",
   "mimetype": "text/x-python",
   "name": "python",
   "nbconvert_exporter": "python",
   "pygments_lexer": "ipython3",
   "version": "3.12.8"
  }
 },
 "nbformat": 4,
 "nbformat_minor": 5
}
